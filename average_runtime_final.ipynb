{
 "cells": [
  {
   "cell_type": "code",
   "execution_count": 0,
   "metadata": {
    "colab": {},
    "colab_type": "code",
    "id": "pVBT9yWkArL4"
   },
   "outputs": [],
   "source": [
    "import pandas as pd\n",
    "import zipfile\n",
    "from matplotlib import pyplot as plt\n",
    "import numpy as np"
   ]
  },
  {
   "cell_type": "code",
   "execution_count": 2,
   "metadata": {
    "colab": {
     "base_uri": "https://localhost:8080/",
     "height": 121
    },
    "colab_type": "code",
    "executionInfo": {
     "elapsed": 47181,
     "status": "ok",
     "timestamp": 1589729024927,
     "user": {
      "displayName": "Devandra Jain",
      "photoUrl": "https://lh3.googleusercontent.com/a-/AOh14GgAA2c6pj0kUBNxAJWw9IN8lF1sO9V1fBpHXwr1dA=s64",
      "userId": "08887639184458324853"
     },
     "user_tz": -330
    },
    "id": "07EwMV_CAxgM",
    "outputId": "f7036499-effd-4619-f79b-6b451bbe5d22"
   },
   "outputs": [
    {
     "name": "stdout",
     "output_type": "stream",
     "text": [
      "Go to this URL in a browser: https://accounts.google.com/o/oauth2/auth?client_id=947318989803-6bn6qk8qdgf4n4g3pfee6491hc0brc4i.apps.googleusercontent.com&redirect_uri=urn%3aietf%3awg%3aoauth%3a2.0%3aoob&response_type=code&scope=email%20https%3a%2f%2fwww.googleapis.com%2fauth%2fdocs.test%20https%3a%2f%2fwww.googleapis.com%2fauth%2fdrive%20https%3a%2f%2fwww.googleapis.com%2fauth%2fdrive.photos.readonly%20https%3a%2f%2fwww.googleapis.com%2fauth%2fpeopleapi.readonly\n",
      "\n",
      "Enter your authorization code:\n",
      "··········\n",
      "Mounted at /content/drive\n"
     ]
    }
   ],
   "source": [
    "from google.colab import drive  #importing file from local drive\n",
    "drive.mount('/content/drive')"
   ]
  },
  {
   "cell_type": "code",
   "execution_count": 3,
   "metadata": {
    "colab": {
     "base_uri": "https://localhost:8080/",
     "height": 229
    },
    "colab_type": "code",
    "executionInfo": {
     "elapsed": 21319,
     "status": "ok",
     "timestamp": 1589729061948,
     "user": {
      "displayName": "Devandra Jain",
      "photoUrl": "https://lh3.googleusercontent.com/a-/AOh14GgAA2c6pj0kUBNxAJWw9IN8lF1sO9V1fBpHXwr1dA=s64",
      "userId": "08887639184458324853"
     },
     "user_tz": -330
    },
    "id": "bd0DQxhJA0R2",
    "outputId": "e7cfa0fb-f529-4b3d-c912-4983cb06d83c"
   },
   "outputs": [
    {
     "name": "stderr",
     "output_type": "stream",
     "text": [
      "/usr/local/lib/python3.6/dist-packages/IPython/core/interactiveshell.py:2718: DtypeWarning: Columns (5) have mixed types.Specify dtype option on import or set low_memory=False.\n",
      "  interactivity=interactivity, compiler=compiler, result=result)\n"
     ]
    },
    {
     "data": {
      "text/html": [
       "<div>\n",
       "<style scoped>\n",
       "    .dataframe tbody tr th:only-of-type {\n",
       "        vertical-align: middle;\n",
       "    }\n",
       "\n",
       "    .dataframe tbody tr th {\n",
       "        vertical-align: top;\n",
       "    }\n",
       "\n",
       "    .dataframe thead th {\n",
       "        text-align: right;\n",
       "    }\n",
       "</style>\n",
       "<table border=\"1\" class=\"dataframe\">\n",
       "  <thead>\n",
       "    <tr style=\"text-align: right;\">\n",
       "      <th></th>\n",
       "      <th>tconst</th>\n",
       "      <th>titleType</th>\n",
       "      <th>primaryTitle</th>\n",
       "      <th>originalTitle</th>\n",
       "      <th>isAdult</th>\n",
       "      <th>startYear</th>\n",
       "      <th>endYear</th>\n",
       "      <th>runtimeMinutes</th>\n",
       "      <th>genres</th>\n",
       "    </tr>\n",
       "  </thead>\n",
       "  <tbody>\n",
       "    <tr>\n",
       "      <th>0</th>\n",
       "      <td>tt0000001</td>\n",
       "      <td>short</td>\n",
       "      <td>Carmencita</td>\n",
       "      <td>Carmencita</td>\n",
       "      <td>0</td>\n",
       "      <td>1894</td>\n",
       "      <td>\\N</td>\n",
       "      <td>1</td>\n",
       "      <td>Documentary,Short</td>\n",
       "    </tr>\n",
       "    <tr>\n",
       "      <th>1</th>\n",
       "      <td>tt0000002</td>\n",
       "      <td>short</td>\n",
       "      <td>Le clown et ses chiens</td>\n",
       "      <td>Le clown et ses chiens</td>\n",
       "      <td>0</td>\n",
       "      <td>1892</td>\n",
       "      <td>\\N</td>\n",
       "      <td>5</td>\n",
       "      <td>Animation,Short</td>\n",
       "    </tr>\n",
       "    <tr>\n",
       "      <th>2</th>\n",
       "      <td>tt0000003</td>\n",
       "      <td>short</td>\n",
       "      <td>Pauvre Pierrot</td>\n",
       "      <td>Pauvre Pierrot</td>\n",
       "      <td>0</td>\n",
       "      <td>1892</td>\n",
       "      <td>\\N</td>\n",
       "      <td>4</td>\n",
       "      <td>Animation,Comedy,Romance</td>\n",
       "    </tr>\n",
       "    <tr>\n",
       "      <th>3</th>\n",
       "      <td>tt0000004</td>\n",
       "      <td>short</td>\n",
       "      <td>Un bon bock</td>\n",
       "      <td>Un bon bock</td>\n",
       "      <td>0</td>\n",
       "      <td>1892</td>\n",
       "      <td>\\N</td>\n",
       "      <td>12</td>\n",
       "      <td>Animation,Short</td>\n",
       "    </tr>\n",
       "    <tr>\n",
       "      <th>4</th>\n",
       "      <td>tt0000005</td>\n",
       "      <td>short</td>\n",
       "      <td>Blacksmith Scene</td>\n",
       "      <td>Blacksmith Scene</td>\n",
       "      <td>0</td>\n",
       "      <td>1893</td>\n",
       "      <td>\\N</td>\n",
       "      <td>1</td>\n",
       "      <td>Comedy,Short</td>\n",
       "    </tr>\n",
       "  </tbody>\n",
       "</table>\n",
       "</div>"
      ],
      "text/plain": [
       "      tconst titleType  ... runtimeMinutes                    genres\n",
       "0  tt0000001     short  ...              1         Documentary,Short\n",
       "1  tt0000002     short  ...              5           Animation,Short\n",
       "2  tt0000003     short  ...              4  Animation,Comedy,Romance\n",
       "3  tt0000004     short  ...             12           Animation,Short\n",
       "4  tt0000005     short  ...              1              Comedy,Short\n",
       "\n",
       "[5 rows x 9 columns]"
      ]
     },
     "execution_count": 3,
     "metadata": {
      "tags": []
     },
     "output_type": "execute_result"
    }
   ],
   "source": [
    "title_basics = pd.read_csv(r'/content/drive/My Drive//title.basics.tsv.gz', sep = '\\t')\n",
    "title_basics.head()"
   ]
  },
  {
   "cell_type": "code",
   "execution_count": 4,
   "metadata": {
    "colab": {
     "base_uri": "https://localhost:8080/",
     "height": 50
    },
    "colab_type": "code",
    "executionInfo": {
     "elapsed": 1616,
     "status": "ok",
     "timestamp": 1589729064881,
     "user": {
      "displayName": "Devandra Jain",
      "photoUrl": "https://lh3.googleusercontent.com/a-/AOh14GgAA2c6pj0kUBNxAJWw9IN8lF1sO9V1fBpHXwr1dA=s64",
      "userId": "08887639184458324853"
     },
     "user_tz": -330
    },
    "id": "IgbO89J0BAV3",
    "outputId": "15c3e41e-88c6-4ccf-cf89-cc656cdce7d3"
   },
   "outputs": [
    {
     "data": {
      "text/plain": [
       "array(['short', 'movie', 'tvMovie', 'tvSeries', 'tvEpisode', 'tvShort',\n",
       "       'tvMiniSeries', 'tvSpecial', 'video', 'videoGame'], dtype=object)"
      ]
     },
     "execution_count": 4,
     "metadata": {
      "tags": []
     },
     "output_type": "execute_result"
    }
   ],
   "source": [
    "title_basics.titleType.unique() #to look for tvseries"
   ]
  },
  {
   "cell_type": "code",
   "execution_count": 5,
   "metadata": {
    "colab": {
     "base_uri": "https://localhost:8080/",
     "height": 50
    },
    "colab_type": "code",
    "executionInfo": {
     "elapsed": 1411,
     "status": "ok",
     "timestamp": 1589729067468,
     "user": {
      "displayName": "Devandra Jain",
      "photoUrl": "https://lh3.googleusercontent.com/a-/AOh14GgAA2c6pj0kUBNxAJWw9IN8lF1sO9V1fBpHXwr1dA=s64",
      "userId": "08887639184458324853"
     },
     "user_tz": -330
    },
    "id": "S_8sqUD-BGWI",
    "outputId": "81c785dd-5177-41a6-8922-538bec373796"
   },
   "outputs": [
    {
     "data": {
      "text/plain": [
       "array(['tvSeries', 'tvEpisode', 'tvShort', 'tvMiniSeries', 'tvSpecial'],\n",
       "      dtype=object)"
      ]
     },
     "execution_count": 5,
     "metadata": {
      "tags": []
     },
     "output_type": "execute_result"
    }
   ],
   "source": [
    "tv = title_basics.titleType.unique()[3:8] #keeping tv types\n",
    "tv"
   ]
  },
  {
   "cell_type": "code",
   "execution_count": 6,
   "metadata": {
    "colab": {
     "base_uri": "https://localhost:8080/",
     "height": 402
    },
    "colab_type": "code",
    "executionInfo": {
     "elapsed": 2097,
     "status": "ok",
     "timestamp": 1589729070564,
     "user": {
      "displayName": "Devandra Jain",
      "photoUrl": "https://lh3.googleusercontent.com/a-/AOh14GgAA2c6pj0kUBNxAJWw9IN8lF1sO9V1fBpHXwr1dA=s64",
      "userId": "08887639184458324853"
     },
     "user_tz": -330
    },
    "id": "5kUr6IwyBHcj",
    "outputId": "e02db421-570b-4e12-c5a6-4feca1fa6261"
   },
   "outputs": [
    {
     "data": {
      "text/html": [
       "<div>\n",
       "<style scoped>\n",
       "    .dataframe tbody tr th:only-of-type {\n",
       "        vertical-align: middle;\n",
       "    }\n",
       "\n",
       "    .dataframe tbody tr th {\n",
       "        vertical-align: top;\n",
       "    }\n",
       "\n",
       "    .dataframe thead th {\n",
       "        text-align: right;\n",
       "    }\n",
       "</style>\n",
       "<table border=\"1\" class=\"dataframe\">\n",
       "  <thead>\n",
       "    <tr style=\"text-align: right;\">\n",
       "      <th></th>\n",
       "      <th>tconst</th>\n",
       "      <th>titleType</th>\n",
       "      <th>primaryTitle</th>\n",
       "      <th>originalTitle</th>\n",
       "      <th>isAdult</th>\n",
       "      <th>startYear</th>\n",
       "      <th>endYear</th>\n",
       "      <th>runtimeMinutes</th>\n",
       "      <th>genres</th>\n",
       "    </tr>\n",
       "  </thead>\n",
       "  <tbody>\n",
       "    <tr>\n",
       "      <th>34987</th>\n",
       "      <td>tt0035599</td>\n",
       "      <td>tvSeries</td>\n",
       "      <td>Voice of Firestone Televues</td>\n",
       "      <td>Voice of Firestone Televues</td>\n",
       "      <td>0</td>\n",
       "      <td>1943</td>\n",
       "      <td>1947</td>\n",
       "      <td>15</td>\n",
       "      <td>\\N</td>\n",
       "    </tr>\n",
       "    <tr>\n",
       "      <th>35188</th>\n",
       "      <td>tt0035803</td>\n",
       "      <td>tvSeries</td>\n",
       "      <td>The German Weekly Review</td>\n",
       "      <td>Die Deutsche Wochenschau</td>\n",
       "      <td>0</td>\n",
       "      <td>1940</td>\n",
       "      <td>1945</td>\n",
       "      <td>12</td>\n",
       "      <td>Documentary,News</td>\n",
       "    </tr>\n",
       "    <tr>\n",
       "      <th>37617</th>\n",
       "      <td>tt0038276</td>\n",
       "      <td>tvSeries</td>\n",
       "      <td>You Are an Artist</td>\n",
       "      <td>You Are an Artist</td>\n",
       "      <td>0</td>\n",
       "      <td>1946</td>\n",
       "      <td>1950</td>\n",
       "      <td>15</td>\n",
       "      <td>\\N</td>\n",
       "    </tr>\n",
       "    <tr>\n",
       "      <th>38451</th>\n",
       "      <td>tt0039120</td>\n",
       "      <td>tvSeries</td>\n",
       "      <td>Americana</td>\n",
       "      <td>Americana</td>\n",
       "      <td>0</td>\n",
       "      <td>1947</td>\n",
       "      <td>1949</td>\n",
       "      <td>30</td>\n",
       "      <td>Family,Game-Show</td>\n",
       "    </tr>\n",
       "    <tr>\n",
       "      <th>38452</th>\n",
       "      <td>tt0039121</td>\n",
       "      <td>tvSeries</td>\n",
       "      <td>Birthday Party</td>\n",
       "      <td>Birthday Party</td>\n",
       "      <td>0</td>\n",
       "      <td>1947</td>\n",
       "      <td>1949</td>\n",
       "      <td>30</td>\n",
       "      <td>Family</td>\n",
       "    </tr>\n",
       "    <tr>\n",
       "      <th>...</th>\n",
       "      <td>...</td>\n",
       "      <td>...</td>\n",
       "      <td>...</td>\n",
       "      <td>...</td>\n",
       "      <td>...</td>\n",
       "      <td>...</td>\n",
       "      <td>...</td>\n",
       "      <td>...</td>\n",
       "      <td>...</td>\n",
       "    </tr>\n",
       "    <tr>\n",
       "      <th>6796787</th>\n",
       "      <td>tt9916846</td>\n",
       "      <td>tvEpisode</td>\n",
       "      <td>Episode #3.18</td>\n",
       "      <td>Episode #3.18</td>\n",
       "      <td>0</td>\n",
       "      <td>2010</td>\n",
       "      <td>\\N</td>\n",
       "      <td>\\N</td>\n",
       "      <td>Action,Drama,Family</td>\n",
       "    </tr>\n",
       "    <tr>\n",
       "      <th>6796788</th>\n",
       "      <td>tt9916848</td>\n",
       "      <td>tvEpisode</td>\n",
       "      <td>Episode #3.17</td>\n",
       "      <td>Episode #3.17</td>\n",
       "      <td>0</td>\n",
       "      <td>2010</td>\n",
       "      <td>\\N</td>\n",
       "      <td>\\N</td>\n",
       "      <td>Action,Drama,Family</td>\n",
       "    </tr>\n",
       "    <tr>\n",
       "      <th>6796789</th>\n",
       "      <td>tt9916850</td>\n",
       "      <td>tvEpisode</td>\n",
       "      <td>Episode #3.19</td>\n",
       "      <td>Episode #3.19</td>\n",
       "      <td>0</td>\n",
       "      <td>2010</td>\n",
       "      <td>\\N</td>\n",
       "      <td>\\N</td>\n",
       "      <td>Action,Drama,Family</td>\n",
       "    </tr>\n",
       "    <tr>\n",
       "      <th>6796790</th>\n",
       "      <td>tt9916852</td>\n",
       "      <td>tvEpisode</td>\n",
       "      <td>Episode #3.20</td>\n",
       "      <td>Episode #3.20</td>\n",
       "      <td>0</td>\n",
       "      <td>2010</td>\n",
       "      <td>\\N</td>\n",
       "      <td>\\N</td>\n",
       "      <td>Action,Drama,Family</td>\n",
       "    </tr>\n",
       "    <tr>\n",
       "      <th>6796792</th>\n",
       "      <td>tt9916880</td>\n",
       "      <td>tvEpisode</td>\n",
       "      <td>Horrid Henry Knows It All</td>\n",
       "      <td>Horrid Henry Knows It All</td>\n",
       "      <td>0</td>\n",
       "      <td>2014</td>\n",
       "      <td>\\N</td>\n",
       "      <td>10</td>\n",
       "      <td>Animation,Comedy,Family</td>\n",
       "    </tr>\n",
       "  </tbody>\n",
       "</table>\n",
       "<p>5096588 rows × 9 columns</p>\n",
       "</div>"
      ],
      "text/plain": [
       "            tconst  titleType  ... runtimeMinutes                   genres\n",
       "34987    tt0035599   tvSeries  ...             15                       \\N\n",
       "35188    tt0035803   tvSeries  ...             12         Documentary,News\n",
       "37617    tt0038276   tvSeries  ...             15                       \\N\n",
       "38451    tt0039120   tvSeries  ...             30         Family,Game-Show\n",
       "38452    tt0039121   tvSeries  ...             30                   Family\n",
       "...            ...        ...  ...            ...                      ...\n",
       "6796787  tt9916846  tvEpisode  ...             \\N      Action,Drama,Family\n",
       "6796788  tt9916848  tvEpisode  ...             \\N      Action,Drama,Family\n",
       "6796789  tt9916850  tvEpisode  ...             \\N      Action,Drama,Family\n",
       "6796790  tt9916852  tvEpisode  ...             \\N      Action,Drama,Family\n",
       "6796792  tt9916880  tvEpisode  ...             10  Animation,Comedy,Family\n",
       "\n",
       "[5096588 rows x 9 columns]"
      ]
     },
     "execution_count": 6,
     "metadata": {
      "tags": []
     },
     "output_type": "execute_result"
    }
   ],
   "source": [
    "tv_series = title_basics[title_basics.titleType.isin(tv)] #extracted tv types\n",
    "tv_series"
   ]
  },
  {
   "cell_type": "code",
   "execution_count": 7,
   "metadata": {
    "colab": {
     "base_uri": "https://localhost:8080/",
     "height": 402
    },
    "colab_type": "code",
    "executionInfo": {
     "elapsed": 1320,
     "status": "ok",
     "timestamp": 1589729072924,
     "user": {
      "displayName": "Devandra Jain",
      "photoUrl": "https://lh3.googleusercontent.com/a-/AOh14GgAA2c6pj0kUBNxAJWw9IN8lF1sO9V1fBpHXwr1dA=s64",
      "userId": "08887639184458324853"
     },
     "user_tz": -330
    },
    "id": "gZyh9tWfBKxY",
    "outputId": "f8f098f6-fccb-4ddb-8a67-9fda7743497a"
   },
   "outputs": [
    {
     "data": {
      "text/html": [
       "<div>\n",
       "<style scoped>\n",
       "    .dataframe tbody tr th:only-of-type {\n",
       "        vertical-align: middle;\n",
       "    }\n",
       "\n",
       "    .dataframe tbody tr th {\n",
       "        vertical-align: top;\n",
       "    }\n",
       "\n",
       "    .dataframe thead th {\n",
       "        text-align: right;\n",
       "    }\n",
       "</style>\n",
       "<table border=\"1\" class=\"dataframe\">\n",
       "  <thead>\n",
       "    <tr style=\"text-align: right;\">\n",
       "      <th></th>\n",
       "      <th>tconst</th>\n",
       "      <th>runtimeMinutes</th>\n",
       "    </tr>\n",
       "  </thead>\n",
       "  <tbody>\n",
       "    <tr>\n",
       "      <th>34987</th>\n",
       "      <td>tt0035599</td>\n",
       "      <td>15</td>\n",
       "    </tr>\n",
       "    <tr>\n",
       "      <th>35188</th>\n",
       "      <td>tt0035803</td>\n",
       "      <td>12</td>\n",
       "    </tr>\n",
       "    <tr>\n",
       "      <th>37617</th>\n",
       "      <td>tt0038276</td>\n",
       "      <td>15</td>\n",
       "    </tr>\n",
       "    <tr>\n",
       "      <th>38451</th>\n",
       "      <td>tt0039120</td>\n",
       "      <td>30</td>\n",
       "    </tr>\n",
       "    <tr>\n",
       "      <th>38452</th>\n",
       "      <td>tt0039121</td>\n",
       "      <td>30</td>\n",
       "    </tr>\n",
       "    <tr>\n",
       "      <th>...</th>\n",
       "      <td>...</td>\n",
       "      <td>...</td>\n",
       "    </tr>\n",
       "    <tr>\n",
       "      <th>6796787</th>\n",
       "      <td>tt9916846</td>\n",
       "      <td>\\N</td>\n",
       "    </tr>\n",
       "    <tr>\n",
       "      <th>6796788</th>\n",
       "      <td>tt9916848</td>\n",
       "      <td>\\N</td>\n",
       "    </tr>\n",
       "    <tr>\n",
       "      <th>6796789</th>\n",
       "      <td>tt9916850</td>\n",
       "      <td>\\N</td>\n",
       "    </tr>\n",
       "    <tr>\n",
       "      <th>6796790</th>\n",
       "      <td>tt9916852</td>\n",
       "      <td>\\N</td>\n",
       "    </tr>\n",
       "    <tr>\n",
       "      <th>6796792</th>\n",
       "      <td>tt9916880</td>\n",
       "      <td>10</td>\n",
       "    </tr>\n",
       "  </tbody>\n",
       "</table>\n",
       "<p>5096588 rows × 2 columns</p>\n",
       "</div>"
      ],
      "text/plain": [
       "            tconst runtimeMinutes\n",
       "34987    tt0035599             15\n",
       "35188    tt0035803             12\n",
       "37617    tt0038276             15\n",
       "38451    tt0039120             30\n",
       "38452    tt0039121             30\n",
       "...            ...            ...\n",
       "6796787  tt9916846             \\N\n",
       "6796788  tt9916848             \\N\n",
       "6796789  tt9916850             \\N\n",
       "6796790  tt9916852             \\N\n",
       "6796792  tt9916880             10\n",
       "\n",
       "[5096588 rows x 2 columns]"
      ]
     },
     "execution_count": 7,
     "metadata": {
      "tags": []
     },
     "output_type": "execute_result"
    }
   ],
   "source": [
    "tv_series_rn = tv_series[['tconst','runtimeMinutes']] #keeping the reqd rows\n",
    "tv_series_rn"
   ]
  },
  {
   "cell_type": "code",
   "execution_count": 8,
   "metadata": {
    "colab": {
     "base_uri": "https://localhost:8080/",
     "height": 402
    },
    "colab_type": "code",
    "executionInfo": {
     "elapsed": 2646,
     "status": "ok",
     "timestamp": 1589729076771,
     "user": {
      "displayName": "Devandra Jain",
      "photoUrl": "https://lh3.googleusercontent.com/a-/AOh14GgAA2c6pj0kUBNxAJWw9IN8lF1sO9V1fBpHXwr1dA=s64",
      "userId": "08887639184458324853"
     },
     "user_tz": -330
    },
    "id": "h95oPzj1BPMM",
    "outputId": "bec4c549-701d-4f91-e3cc-f0b6ec837cf6"
   },
   "outputs": [
    {
     "data": {
      "text/html": [
       "<div>\n",
       "<style scoped>\n",
       "    .dataframe tbody tr th:only-of-type {\n",
       "        vertical-align: middle;\n",
       "    }\n",
       "\n",
       "    .dataframe tbody tr th {\n",
       "        vertical-align: top;\n",
       "    }\n",
       "\n",
       "    .dataframe thead th {\n",
       "        text-align: right;\n",
       "    }\n",
       "</style>\n",
       "<table border=\"1\" class=\"dataframe\">\n",
       "  <thead>\n",
       "    <tr style=\"text-align: right;\">\n",
       "      <th></th>\n",
       "      <th>tconst</th>\n",
       "      <th>runtimeMinutes</th>\n",
       "    </tr>\n",
       "  </thead>\n",
       "  <tbody>\n",
       "    <tr>\n",
       "      <th>0</th>\n",
       "      <td>tt0035599</td>\n",
       "      <td>15</td>\n",
       "    </tr>\n",
       "    <tr>\n",
       "      <th>1</th>\n",
       "      <td>tt0035803</td>\n",
       "      <td>12</td>\n",
       "    </tr>\n",
       "    <tr>\n",
       "      <th>2</th>\n",
       "      <td>tt0038276</td>\n",
       "      <td>15</td>\n",
       "    </tr>\n",
       "    <tr>\n",
       "      <th>3</th>\n",
       "      <td>tt0039120</td>\n",
       "      <td>30</td>\n",
       "    </tr>\n",
       "    <tr>\n",
       "      <th>4</th>\n",
       "      <td>tt0039121</td>\n",
       "      <td>30</td>\n",
       "    </tr>\n",
       "    <tr>\n",
       "      <th>...</th>\n",
       "      <td>...</td>\n",
       "      <td>...</td>\n",
       "    </tr>\n",
       "    <tr>\n",
       "      <th>877969</th>\n",
       "      <td>tt9916674</td>\n",
       "      <td>15</td>\n",
       "    </tr>\n",
       "    <tr>\n",
       "      <th>877970</th>\n",
       "      <td>tt9916688</td>\n",
       "      <td>10</td>\n",
       "    </tr>\n",
       "    <tr>\n",
       "      <th>877971</th>\n",
       "      <td>tt9916766</td>\n",
       "      <td>43</td>\n",
       "    </tr>\n",
       "    <tr>\n",
       "      <th>877972</th>\n",
       "      <td>tt9916840</td>\n",
       "      <td>11</td>\n",
       "    </tr>\n",
       "    <tr>\n",
       "      <th>877973</th>\n",
       "      <td>tt9916880</td>\n",
       "      <td>10</td>\n",
       "    </tr>\n",
       "  </tbody>\n",
       "</table>\n",
       "<p>877974 rows × 2 columns</p>\n",
       "</div>"
      ],
      "text/plain": [
       "           tconst runtimeMinutes\n",
       "0       tt0035599             15\n",
       "1       tt0035803             12\n",
       "2       tt0038276             15\n",
       "3       tt0039120             30\n",
       "4       tt0039121             30\n",
       "...           ...            ...\n",
       "877969  tt9916674             15\n",
       "877970  tt9916688             10\n",
       "877971  tt9916766             43\n",
       "877972  tt9916840             11\n",
       "877973  tt9916880             10\n",
       "\n",
       "[877974 rows x 2 columns]"
      ]
     },
     "execution_count": 8,
     "metadata": {
      "tags": []
     },
     "output_type": "execute_result"
    }
   ],
   "source": [
    "tv_series_rn = tv_series_rn.replace('\\\\N', np.nan) ## replacing \\N\n",
    "tv_series_rn = tv_series_rn.dropna() # dropping NaN\n",
    "tv_series_rn = tv_series_rn.reset_index() \n",
    "tv_series_rn = tv_series_rn.drop('index', axis =1)\n",
    "tv_series_rn"
   ]
  },
  {
   "cell_type": "code",
   "execution_count": 9,
   "metadata": {
    "colab": {
     "base_uri": "https://localhost:8080/",
     "height": 195
    },
    "colab_type": "code",
    "executionInfo": {
     "elapsed": 2704,
     "status": "ok",
     "timestamp": 1589729080908,
     "user": {
      "displayName": "Devandra Jain",
      "photoUrl": "https://lh3.googleusercontent.com/a-/AOh14GgAA2c6pj0kUBNxAJWw9IN8lF1sO9V1fBpHXwr1dA=s64",
      "userId": "08887639184458324853"
     },
     "user_tz": -330
    },
    "id": "b_NTxHAsBcSG",
    "outputId": "57016139-3e6f-4198-e2b9-e71c3c2fbec2"
   },
   "outputs": [
    {
     "data": {
      "text/html": [
       "<div>\n",
       "<style scoped>\n",
       "    .dataframe tbody tr th:only-of-type {\n",
       "        vertical-align: middle;\n",
       "    }\n",
       "\n",
       "    .dataframe tbody tr th {\n",
       "        vertical-align: top;\n",
       "    }\n",
       "\n",
       "    .dataframe thead th {\n",
       "        text-align: right;\n",
       "    }\n",
       "</style>\n",
       "<table border=\"1\" class=\"dataframe\">\n",
       "  <thead>\n",
       "    <tr style=\"text-align: right;\">\n",
       "      <th></th>\n",
       "      <th>tconst</th>\n",
       "      <th>averageRating</th>\n",
       "      <th>numVotes</th>\n",
       "    </tr>\n",
       "  </thead>\n",
       "  <tbody>\n",
       "    <tr>\n",
       "      <th>0</th>\n",
       "      <td>tt0000001</td>\n",
       "      <td>5.6</td>\n",
       "      <td>1613</td>\n",
       "    </tr>\n",
       "    <tr>\n",
       "      <th>1</th>\n",
       "      <td>tt0000002</td>\n",
       "      <td>6.0</td>\n",
       "      <td>197</td>\n",
       "    </tr>\n",
       "    <tr>\n",
       "      <th>2</th>\n",
       "      <td>tt0000003</td>\n",
       "      <td>6.5</td>\n",
       "      <td>1292</td>\n",
       "    </tr>\n",
       "    <tr>\n",
       "      <th>3</th>\n",
       "      <td>tt0000004</td>\n",
       "      <td>6.1</td>\n",
       "      <td>121</td>\n",
       "    </tr>\n",
       "    <tr>\n",
       "      <th>4</th>\n",
       "      <td>tt0000005</td>\n",
       "      <td>6.1</td>\n",
       "      <td>2067</td>\n",
       "    </tr>\n",
       "  </tbody>\n",
       "</table>\n",
       "</div>"
      ],
      "text/plain": [
       "      tconst  averageRating  numVotes\n",
       "0  tt0000001            5.6      1613\n",
       "1  tt0000002            6.0       197\n",
       "2  tt0000003            6.5      1292\n",
       "3  tt0000004            6.1       121\n",
       "4  tt0000005            6.1      2067"
      ]
     },
     "execution_count": 9,
     "metadata": {
      "tags": []
     },
     "output_type": "execute_result"
    }
   ],
   "source": [
    "ratings_title = pd.read_csv(r'https://datasets.imdbws.com/title.ratings.tsv.gz', sep = '\\t') #to get a relation of nconst and tconst\n",
    "ratings_title.head()"
   ]
  },
  {
   "cell_type": "code",
   "execution_count": 10,
   "metadata": {
    "colab": {
     "base_uri": "https://localhost:8080/",
     "height": 402
    },
    "colab_type": "code",
    "executionInfo": {
     "elapsed": 2264,
     "status": "ok",
     "timestamp": 1589729100878,
     "user": {
      "displayName": "Devandra Jain",
      "photoUrl": "https://lh3.googleusercontent.com/a-/AOh14GgAA2c6pj0kUBNxAJWw9IN8lF1sO9V1fBpHXwr1dA=s64",
      "userId": "08887639184458324853"
     },
     "user_tz": -330
    },
    "id": "_bZGQMlvPMWN",
    "outputId": "77504605-887d-48f5-df7d-5e687d7dbb5c"
   },
   "outputs": [
    {
     "data": {
      "text/html": [
       "<div>\n",
       "<style scoped>\n",
       "    .dataframe tbody tr th:only-of-type {\n",
       "        vertical-align: middle;\n",
       "    }\n",
       "\n",
       "    .dataframe tbody tr th {\n",
       "        vertical-align: top;\n",
       "    }\n",
       "\n",
       "    .dataframe thead th {\n",
       "        text-align: right;\n",
       "    }\n",
       "</style>\n",
       "<table border=\"1\" class=\"dataframe\">\n",
       "  <thead>\n",
       "    <tr style=\"text-align: right;\">\n",
       "      <th></th>\n",
       "      <th>tconst</th>\n",
       "      <th>averageRating</th>\n",
       "      <th>numVotes</th>\n",
       "    </tr>\n",
       "  </thead>\n",
       "  <tbody>\n",
       "    <tr>\n",
       "      <th>0</th>\n",
       "      <td>tt0000001</td>\n",
       "      <td>5.6</td>\n",
       "      <td>1613</td>\n",
       "    </tr>\n",
       "    <tr>\n",
       "      <th>1</th>\n",
       "      <td>tt0000002</td>\n",
       "      <td>6.0</td>\n",
       "      <td>197</td>\n",
       "    </tr>\n",
       "    <tr>\n",
       "      <th>2</th>\n",
       "      <td>tt0000003</td>\n",
       "      <td>6.5</td>\n",
       "      <td>1292</td>\n",
       "    </tr>\n",
       "    <tr>\n",
       "      <th>3</th>\n",
       "      <td>tt0000004</td>\n",
       "      <td>6.1</td>\n",
       "      <td>121</td>\n",
       "    </tr>\n",
       "    <tr>\n",
       "      <th>4</th>\n",
       "      <td>tt0000005</td>\n",
       "      <td>6.1</td>\n",
       "      <td>2067</td>\n",
       "    </tr>\n",
       "    <tr>\n",
       "      <th>...</th>\n",
       "      <td>...</td>\n",
       "      <td>...</td>\n",
       "      <td>...</td>\n",
       "    </tr>\n",
       "    <tr>\n",
       "      <th>1041173</th>\n",
       "      <td>tt9915912</td>\n",
       "      <td>7.3</td>\n",
       "      <td>71</td>\n",
       "    </tr>\n",
       "    <tr>\n",
       "      <th>1041182</th>\n",
       "      <td>tt9916200</td>\n",
       "      <td>8.4</td>\n",
       "      <td>153</td>\n",
       "    </tr>\n",
       "    <tr>\n",
       "      <th>1041183</th>\n",
       "      <td>tt9916204</td>\n",
       "      <td>8.2</td>\n",
       "      <td>177</td>\n",
       "    </tr>\n",
       "    <tr>\n",
       "      <th>1041188</th>\n",
       "      <td>tt9916380</td>\n",
       "      <td>9.1</td>\n",
       "      <td>101</td>\n",
       "    </tr>\n",
       "    <tr>\n",
       "      <th>1041195</th>\n",
       "      <td>tt9916720</td>\n",
       "      <td>5.7</td>\n",
       "      <td>51</td>\n",
       "    </tr>\n",
       "  </tbody>\n",
       "</table>\n",
       "<p>329059 rows × 3 columns</p>\n",
       "</div>"
      ],
      "text/plain": [
       "            tconst  averageRating  numVotes\n",
       "0        tt0000001            5.6      1613\n",
       "1        tt0000002            6.0       197\n",
       "2        tt0000003            6.5      1292\n",
       "3        tt0000004            6.1       121\n",
       "4        tt0000005            6.1      2067\n",
       "...            ...            ...       ...\n",
       "1041173  tt9915912            7.3        71\n",
       "1041182  tt9916200            8.4       153\n",
       "1041183  tt9916204            8.2       177\n",
       "1041188  tt9916380            9.1       101\n",
       "1041195  tt9916720            5.7        51\n",
       "\n",
       "[329059 rows x 3 columns]"
      ]
     },
     "execution_count": 10,
     "metadata": {
      "tags": []
     },
     "output_type": "execute_result"
    }
   ],
   "source": [
    "#keeping only those having number of votes greater than 50\n",
    "ratings_title = ratings_title[ratings_title.numVotes>=50]\n",
    "ratings_title"
   ]
  },
  {
   "cell_type": "code",
   "execution_count": 11,
   "metadata": {
    "colab": {
     "base_uri": "https://localhost:8080/",
     "height": 402
    },
    "colab_type": "code",
    "executionInfo": {
     "elapsed": 2099,
     "status": "ok",
     "timestamp": 1589729104484,
     "user": {
      "displayName": "Devandra Jain",
      "photoUrl": "https://lh3.googleusercontent.com/a-/AOh14GgAA2c6pj0kUBNxAJWw9IN8lF1sO9V1fBpHXwr1dA=s64",
      "userId": "08887639184458324853"
     },
     "user_tz": -330
    },
    "id": "hA_UqNyPBfgL",
    "outputId": "7dbed0e9-56b4-4df6-f0ab-0302307301ce"
   },
   "outputs": [
    {
     "data": {
      "text/html": [
       "<div>\n",
       "<style scoped>\n",
       "    .dataframe tbody tr th:only-of-type {\n",
       "        vertical-align: middle;\n",
       "    }\n",
       "\n",
       "    .dataframe tbody tr th {\n",
       "        vertical-align: top;\n",
       "    }\n",
       "\n",
       "    .dataframe thead th {\n",
       "        text-align: right;\n",
       "    }\n",
       "</style>\n",
       "<table border=\"1\" class=\"dataframe\">\n",
       "  <thead>\n",
       "    <tr style=\"text-align: right;\">\n",
       "      <th></th>\n",
       "      <th>tconst</th>\n",
       "      <th>averageRating</th>\n",
       "    </tr>\n",
       "  </thead>\n",
       "  <tbody>\n",
       "    <tr>\n",
       "      <th>0</th>\n",
       "      <td>tt0000001</td>\n",
       "      <td>5.6</td>\n",
       "    </tr>\n",
       "    <tr>\n",
       "      <th>1</th>\n",
       "      <td>tt0000002</td>\n",
       "      <td>6.0</td>\n",
       "    </tr>\n",
       "    <tr>\n",
       "      <th>2</th>\n",
       "      <td>tt0000003</td>\n",
       "      <td>6.5</td>\n",
       "    </tr>\n",
       "    <tr>\n",
       "      <th>3</th>\n",
       "      <td>tt0000004</td>\n",
       "      <td>6.1</td>\n",
       "    </tr>\n",
       "    <tr>\n",
       "      <th>4</th>\n",
       "      <td>tt0000005</td>\n",
       "      <td>6.1</td>\n",
       "    </tr>\n",
       "    <tr>\n",
       "      <th>...</th>\n",
       "      <td>...</td>\n",
       "      <td>...</td>\n",
       "    </tr>\n",
       "    <tr>\n",
       "      <th>1041173</th>\n",
       "      <td>tt9915912</td>\n",
       "      <td>7.3</td>\n",
       "    </tr>\n",
       "    <tr>\n",
       "      <th>1041182</th>\n",
       "      <td>tt9916200</td>\n",
       "      <td>8.4</td>\n",
       "    </tr>\n",
       "    <tr>\n",
       "      <th>1041183</th>\n",
       "      <td>tt9916204</td>\n",
       "      <td>8.2</td>\n",
       "    </tr>\n",
       "    <tr>\n",
       "      <th>1041188</th>\n",
       "      <td>tt9916380</td>\n",
       "      <td>9.1</td>\n",
       "    </tr>\n",
       "    <tr>\n",
       "      <th>1041195</th>\n",
       "      <td>tt9916720</td>\n",
       "      <td>5.7</td>\n",
       "    </tr>\n",
       "  </tbody>\n",
       "</table>\n",
       "<p>329059 rows × 2 columns</p>\n",
       "</div>"
      ],
      "text/plain": [
       "            tconst  averageRating\n",
       "0        tt0000001            5.6\n",
       "1        tt0000002            6.0\n",
       "2        tt0000003            6.5\n",
       "3        tt0000004            6.1\n",
       "4        tt0000005            6.1\n",
       "...            ...            ...\n",
       "1041173  tt9915912            7.3\n",
       "1041182  tt9916200            8.4\n",
       "1041183  tt9916204            8.2\n",
       "1041188  tt9916380            9.1\n",
       "1041195  tt9916720            5.7\n",
       "\n",
       "[329059 rows x 2 columns]"
      ]
     },
     "execution_count": 11,
     "metadata": {
      "tags": []
     },
     "output_type": "execute_result"
    }
   ],
   "source": [
    "ratings_title = ratings_title.drop('numVotes', axis = 1)\n",
    "ratings_title"
   ]
  },
  {
   "cell_type": "code",
   "execution_count": 12,
   "metadata": {
    "colab": {
     "base_uri": "https://localhost:8080/",
     "height": 402
    },
    "colab_type": "code",
    "executionInfo": {
     "elapsed": 2212,
     "status": "ok",
     "timestamp": 1589729108800,
     "user": {
      "displayName": "Devandra Jain",
      "photoUrl": "https://lh3.googleusercontent.com/a-/AOh14GgAA2c6pj0kUBNxAJWw9IN8lF1sO9V1fBpHXwr1dA=s64",
      "userId": "08887639184458324853"
     },
     "user_tz": -330
    },
    "id": "TU5ajibTBijP",
    "outputId": "293309f1-13f6-47f7-eab2-e64051f118bb"
   },
   "outputs": [
    {
     "data": {
      "text/html": [
       "<div>\n",
       "<style scoped>\n",
       "    .dataframe tbody tr th:only-of-type {\n",
       "        vertical-align: middle;\n",
       "    }\n",
       "\n",
       "    .dataframe tbody tr th {\n",
       "        vertical-align: top;\n",
       "    }\n",
       "\n",
       "    .dataframe thead th {\n",
       "        text-align: right;\n",
       "    }\n",
       "</style>\n",
       "<table border=\"1\" class=\"dataframe\">\n",
       "  <thead>\n",
       "    <tr style=\"text-align: right;\">\n",
       "      <th></th>\n",
       "      <th>tconst</th>\n",
       "      <th>runtimeMinutes</th>\n",
       "      <th>averageRating</th>\n",
       "    </tr>\n",
       "  </thead>\n",
       "  <tbody>\n",
       "    <tr>\n",
       "      <th>0</th>\n",
       "      <td>tt0039123</td>\n",
       "      <td>60</td>\n",
       "      <td>8.5</td>\n",
       "    </tr>\n",
       "    <tr>\n",
       "      <th>1</th>\n",
       "      <td>tt0040021</td>\n",
       "      <td>30</td>\n",
       "      <td>7.2</td>\n",
       "    </tr>\n",
       "    <tr>\n",
       "      <th>2</th>\n",
       "      <td>tt0040034</td>\n",
       "      <td>30</td>\n",
       "      <td>7.1</td>\n",
       "    </tr>\n",
       "    <tr>\n",
       "      <th>3</th>\n",
       "      <td>tt0040041</td>\n",
       "      <td>60</td>\n",
       "      <td>7.7</td>\n",
       "    </tr>\n",
       "    <tr>\n",
       "      <th>4</th>\n",
       "      <td>tt0040048</td>\n",
       "      <td>60</td>\n",
       "      <td>7.5</td>\n",
       "    </tr>\n",
       "    <tr>\n",
       "      <th>...</th>\n",
       "      <td>...</td>\n",
       "      <td>...</td>\n",
       "      <td>...</td>\n",
       "    </tr>\n",
       "    <tr>\n",
       "      <th>135163</th>\n",
       "      <td>tt9913328</td>\n",
       "      <td>24</td>\n",
       "      <td>8.9</td>\n",
       "    </tr>\n",
       "    <tr>\n",
       "      <th>135164</th>\n",
       "      <td>tt9914546</td>\n",
       "      <td>30</td>\n",
       "      <td>4.2</td>\n",
       "    </tr>\n",
       "    <tr>\n",
       "      <th>135165</th>\n",
       "      <td>tt9916200</td>\n",
       "      <td>43</td>\n",
       "      <td>8.4</td>\n",
       "    </tr>\n",
       "    <tr>\n",
       "      <th>135166</th>\n",
       "      <td>tt9916204</td>\n",
       "      <td>42</td>\n",
       "      <td>8.2</td>\n",
       "    </tr>\n",
       "    <tr>\n",
       "      <th>135167</th>\n",
       "      <td>tt9916380</td>\n",
       "      <td>43</td>\n",
       "      <td>9.1</td>\n",
       "    </tr>\n",
       "  </tbody>\n",
       "</table>\n",
       "<p>135168 rows × 3 columns</p>\n",
       "</div>"
      ],
      "text/plain": [
       "           tconst runtimeMinutes  averageRating\n",
       "0       tt0039123             60            8.5\n",
       "1       tt0040021             30            7.2\n",
       "2       tt0040034             30            7.1\n",
       "3       tt0040041             60            7.7\n",
       "4       tt0040048             60            7.5\n",
       "...           ...            ...            ...\n",
       "135163  tt9913328             24            8.9\n",
       "135164  tt9914546             30            4.2\n",
       "135165  tt9916200             43            8.4\n",
       "135166  tt9916204             42            8.2\n",
       "135167  tt9916380             43            9.1\n",
       "\n",
       "[135168 rows x 3 columns]"
      ]
     },
     "execution_count": 12,
     "metadata": {
      "tags": []
     },
     "output_type": "execute_result"
    }
   ],
   "source": [
    "tv_dur_rat = tv_series_rn.merge(ratings_title, how = 'inner', on = 'tconst')\n",
    "tv_dur_rat"
   ]
  },
  {
   "cell_type": "code",
   "execution_count": 13,
   "metadata": {
    "colab": {
     "base_uri": "https://localhost:8080/",
     "height": 402
    },
    "colab_type": "code",
    "executionInfo": {
     "elapsed": 1303,
     "status": "ok",
     "timestamp": 1589729112342,
     "user": {
      "displayName": "Devandra Jain",
      "photoUrl": "https://lh3.googleusercontent.com/a-/AOh14GgAA2c6pj0kUBNxAJWw9IN8lF1sO9V1fBpHXwr1dA=s64",
      "userId": "08887639184458324853"
     },
     "user_tz": -330
    },
    "id": "E5by2BlbBmk1",
    "outputId": "9e622d33-a432-44ee-b5a5-0f2dc0cc9830"
   },
   "outputs": [
    {
     "data": {
      "text/html": [
       "<div>\n",
       "<style scoped>\n",
       "    .dataframe tbody tr th:only-of-type {\n",
       "        vertical-align: middle;\n",
       "    }\n",
       "\n",
       "    .dataframe tbody tr th {\n",
       "        vertical-align: top;\n",
       "    }\n",
       "\n",
       "    .dataframe thead th {\n",
       "        text-align: right;\n",
       "    }\n",
       "</style>\n",
       "<table border=\"1\" class=\"dataframe\">\n",
       "  <thead>\n",
       "    <tr style=\"text-align: right;\">\n",
       "      <th></th>\n",
       "      <th>tconst</th>\n",
       "      <th>runtimeMinutes</th>\n",
       "      <th>averageRating</th>\n",
       "    </tr>\n",
       "  </thead>\n",
       "  <tbody>\n",
       "    <tr>\n",
       "      <th>0</th>\n",
       "      <td>tt0039123</td>\n",
       "      <td>60</td>\n",
       "      <td>8.5</td>\n",
       "    </tr>\n",
       "    <tr>\n",
       "      <th>1</th>\n",
       "      <td>tt0040041</td>\n",
       "      <td>60</td>\n",
       "      <td>7.7</td>\n",
       "    </tr>\n",
       "    <tr>\n",
       "      <th>2</th>\n",
       "      <td>tt0040049</td>\n",
       "      <td>60</td>\n",
       "      <td>8.1</td>\n",
       "    </tr>\n",
       "    <tr>\n",
       "      <th>3</th>\n",
       "      <td>tt0040051</td>\n",
       "      <td>60</td>\n",
       "      <td>7.8</td>\n",
       "    </tr>\n",
       "    <tr>\n",
       "      <th>4</th>\n",
       "      <td>tt0040053</td>\n",
       "      <td>60</td>\n",
       "      <td>7.8</td>\n",
       "    </tr>\n",
       "    <tr>\n",
       "      <th>...</th>\n",
       "      <td>...</td>\n",
       "      <td>...</td>\n",
       "      <td>...</td>\n",
       "    </tr>\n",
       "    <tr>\n",
       "      <th>76504</th>\n",
       "      <td>tt9913324</td>\n",
       "      <td>24</td>\n",
       "      <td>8.0</td>\n",
       "    </tr>\n",
       "    <tr>\n",
       "      <th>76505</th>\n",
       "      <td>tt9913328</td>\n",
       "      <td>24</td>\n",
       "      <td>8.9</td>\n",
       "    </tr>\n",
       "    <tr>\n",
       "      <th>76506</th>\n",
       "      <td>tt9916200</td>\n",
       "      <td>43</td>\n",
       "      <td>8.4</td>\n",
       "    </tr>\n",
       "    <tr>\n",
       "      <th>76507</th>\n",
       "      <td>tt9916204</td>\n",
       "      <td>42</td>\n",
       "      <td>8.2</td>\n",
       "    </tr>\n",
       "    <tr>\n",
       "      <th>76508</th>\n",
       "      <td>tt9916380</td>\n",
       "      <td>43</td>\n",
       "      <td>9.1</td>\n",
       "    </tr>\n",
       "  </tbody>\n",
       "</table>\n",
       "<p>76509 rows × 3 columns</p>\n",
       "</div>"
      ],
      "text/plain": [
       "          tconst runtimeMinutes  averageRating\n",
       "0      tt0039123             60            8.5\n",
       "1      tt0040041             60            7.7\n",
       "2      tt0040049             60            8.1\n",
       "3      tt0040051             60            7.8\n",
       "4      tt0040053             60            7.8\n",
       "...          ...            ...            ...\n",
       "76504  tt9913324             24            8.0\n",
       "76505  tt9913328             24            8.9\n",
       "76506  tt9916200             43            8.4\n",
       "76507  tt9916204             42            8.2\n",
       "76508  tt9916380             43            9.1\n",
       "\n",
       "[76509 rows x 3 columns]"
      ]
     },
     "execution_count": 13,
     "metadata": {
      "tags": []
     },
     "output_type": "execute_result"
    }
   ],
   "source": [
    "#assuming good serials to be greater than average rating and hust keeping them\n",
    "tv_dur_rat_top = tv_dur_rat[tv_dur_rat.averageRating>=tv_dur_rat.averageRating.mean()]\n",
    "tv_dur_rat_top = tv_dur_rat_top.reset_index()\n",
    "tv_dur_rat_top = tv_dur_rat_top.drop('index', axis=1)\n",
    "tv_dur_rat_top"
   ]
  },
  {
   "cell_type": "code",
   "execution_count": 14,
   "metadata": {
    "colab": {
     "base_uri": "https://localhost:8080/",
     "height": 84
    },
    "colab_type": "code",
    "executionInfo": {
     "elapsed": 1970,
     "status": "ok",
     "timestamp": 1589729115895,
     "user": {
      "displayName": "Devandra Jain",
      "photoUrl": "https://lh3.googleusercontent.com/a-/AOh14GgAA2c6pj0kUBNxAJWw9IN8lF1sO9V1fBpHXwr1dA=s64",
      "userId": "08887639184458324853"
     },
     "user_tz": -330
    },
    "id": "m6lvXUHbBoRB",
    "outputId": "a284a609-d712-4cbc-b1bc-e65e7cc4b24f"
   },
   "outputs": [
    {
     "data": {
      "text/plain": [
       "tconst             object\n",
       "runtimeMinutes     object\n",
       "averageRating     float64\n",
       "dtype: object"
      ]
     },
     "execution_count": 14,
     "metadata": {
      "tags": []
     },
     "output_type": "execute_result"
    }
   ],
   "source": [
    "tv_dur_rat_top.dtypes #to see type, to find average"
   ]
  },
  {
   "cell_type": "code",
   "execution_count": 15,
   "metadata": {
    "colab": {
     "base_uri": "https://localhost:8080/",
     "height": 806
    },
    "colab_type": "code",
    "executionInfo": {
     "elapsed": 1990,
     "status": "ok",
     "timestamp": 1589729119229,
     "user": {
      "displayName": "Devandra Jain",
      "photoUrl": "https://lh3.googleusercontent.com/a-/AOh14GgAA2c6pj0kUBNxAJWw9IN8lF1sO9V1fBpHXwr1dA=s64",
      "userId": "08887639184458324853"
     },
     "user_tz": -330
    },
    "id": "GxUejqRcCHlv",
    "outputId": "f83a61a2-3353-4e71-c3e5-634da81a3def"
   },
   "outputs": [
    {
     "data": {
      "text/plain": [
       "array(['60', '30', '25', '90', '55', '120', '20', '51', '73', '105', '24',\n",
       "       '50', '400', '75', '129', '45', '327', '82', '40', '48', '49',\n",
       "       '63', '80', '26', '79', '85', '360', '97', '74', '378', '22',\n",
       "       '316', '52', '109', '100', '35', '59', '28', '93', '540', '168',\n",
       "       '76', '95', '96', '476', '250', '83', '225', '180', '321', '84',\n",
       "       '268', '230', '300', '240', '3', '69', '890', '70', '43', '161',\n",
       "       '283', '212', '15', '350', '390', '98', '91', '99', '77', '220',\n",
       "       '192', '370', '92', '47', '669', '770', '203', '119', '198', '305',\n",
       "       '500', '382', '588', '750', '102', '175', '333', '614', '1256',\n",
       "       '780', '475', '271', '274', '67', '205', '108', '87', '278', '366',\n",
       "       '840', '275', '72', '931', '676', '54', '547', '290', '673', '115',\n",
       "       '46', '293', '152', '206', '394', '301', '154', '53', '659', '504',\n",
       "       '410', '130', '520', '56', '195', '200', '239', '282', '385',\n",
       "       '720', '460', '197', '883', '151', '110', '320', '330', '313',\n",
       "       '480', '65', '778', '402', '272', '88', '181', '924', '153', '94',\n",
       "       '165', '176', '396', '561', '428', '190', '107', '455', '199',\n",
       "       '285', '156', '37', '171', '307', '304', '163', '420', '570',\n",
       "       '569', '371', '415', '42', '104', '146', '312', '572', '23', '407',\n",
       "       '310', '44', '113', '86', '340', '201', '355', '353', '148', '36',\n",
       "       '57', '58', '270', '11', '384', '1290', '315', '1620', '213',\n",
       "       '318', '103', '159', '178', '680', '29', '226', '229', '207',\n",
       "       '112', '567', '606', '140', '61', '21', '150', '34', '66', '1140',\n",
       "       '522', '306', '255', '19', '218', '118', '5', '106', '145', '374',\n",
       "       '600', '515', '27', '185', '624', '125', '160', '348', '211',\n",
       "       '528', '623', '537', '114', '62', '173', '89', '10', '568', '18',\n",
       "       '12', '650', '292', '287', '135', '698', '170', '377', '7', '672',\n",
       "       '8', '702', '660', '2', '296', '1352', '294', '395', '373', '124',\n",
       "       '6', '273', '344', '217', '13', '127', '1120', '39', '616', '489',\n",
       "       '182', '9', '164', '123', '627', '71', '41', '32', '594', '116',\n",
       "       '38', '117', '78', '417', '202', '121', '64', '577', '386', '376',\n",
       "       '323', '155', '491', '297', '81', '132', '158', '68', '172', '238',\n",
       "       '435', '276', '960', '166', '277', '392', '663', '693', '177',\n",
       "       '216', '16', '622', '281', '280', '139', '877', '17', '219', '389',\n",
       "       '4', '640', '147', '372', '223', '186', '689', '446', '179', '183',\n",
       "       '352', '204', '101', '314', '162', '208', '210', '1084', '133',\n",
       "       '550', '701', '359', '530', '31', '738', '169', '354', '629',\n",
       "       '149', '188', '552', '450', '33', '235', '189', '174', '157',\n",
       "       '510', '138', '233', '122', '184', '1040', '325', '334', '111',\n",
       "       '14', '128', '1932', '538', '434', '1170', '564', '900', '519',\n",
       "       '469', '224', '196', '257', '232', '193', '142', '143', '137',\n",
       "       '231', '187', '215', '375', '331', '516', '584', '573', '479',\n",
       "       '228', '141', '144', '245', '337', '358', '418', '336', '265',\n",
       "       '131', '473', '397', '356', '269', '853', '990', '1210', '236',\n",
       "       '295', '167', '1', '557', '525', '421', '234', '795', '260', '546',\n",
       "       '379', '279', '438', '343', '136', '191', '221', '298', '492',\n",
       "       '364', '436', '440', '3825', '1532', '430', '403', '463', '409',\n",
       "       '254', '222', '347'], dtype=object)"
      ]
     },
     "execution_count": 15,
     "metadata": {
      "tags": []
     },
     "output_type": "execute_result"
    }
   ],
   "source": [
    "tv_dur_rat_top.runtimeMinutes.unique() #to check if all runtime are numbers"
   ]
  },
  {
   "cell_type": "code",
   "execution_count": 0,
   "metadata": {
    "colab": {
     "base_uri": "https://localhost:8080/",
     "height": 34
    },
    "colab_type": "code",
    "executionInfo": {
     "elapsed": 1265,
     "status": "ok",
     "timestamp": 1589642132528,
     "user": {
      "displayName": "Devandra Jain",
      "photoUrl": "https://lh3.googleusercontent.com/a-/AOh14GgAA2c6pj0kUBNxAJWw9IN8lF1sO9V1fBpHXwr1dA=s64",
      "userId": "08887639184458324853"
     },
     "user_tz": -330
    },
    "id": "RuVCZmjQDUjK",
    "outputId": "2a9c4a23-5785-405f-a215-6a6185e07214"
   },
   "outputs": [
    {
     "data": {
      "text/plain": [
       "145829"
      ]
     },
     "execution_count": 15,
     "metadata": {
      "tags": []
     },
     "output_type": "execute_result"
    }
   ],
   "source": [
    "#tv_dur_rat_top.set_index('runtimeMinutes').index.get_loc('Reality-TV') #to find the index of the string"
   ]
  },
  {
   "cell_type": "code",
   "execution_count": 0,
   "metadata": {
    "colab": {
     "base_uri": "https://localhost:8080/",
     "height": 101
    },
    "colab_type": "code",
    "executionInfo": {
     "elapsed": 1379,
     "status": "ok",
     "timestamp": 1589642143599,
     "user": {
      "displayName": "Devandra Jain",
      "photoUrl": "https://lh3.googleusercontent.com/a-/AOh14GgAA2c6pj0kUBNxAJWw9IN8lF1sO9V1fBpHXwr1dA=s64",
      "userId": "08887639184458324853"
     },
     "user_tz": -330
    },
    "id": "qTuYqTgmCKKZ",
    "outputId": "65c3566c-c488-4dde-a79d-db70e648b158"
   },
   "outputs": [
    {
     "name": "stderr",
     "output_type": "stream",
     "text": [
      "/usr/local/lib/python3.6/dist-packages/ipykernel_launcher.py:1: SettingWithCopyWarning: \n",
      "A value is trying to be set on a copy of a slice from a DataFrame\n",
      "\n",
      "See the caveats in the documentation: https://pandas.pydata.org/pandas-docs/stable/user_guide/indexing.html#returning-a-view-versus-a-copy\n",
      "  \"\"\"Entry point for launching an IPython kernel.\n"
     ]
    }
   ],
   "source": [
    "#tv_dur_rat_top.runtimeMinutes[145829] = 0 # removing string"
   ]
  },
  {
   "cell_type": "code",
   "execution_count": 0,
   "metadata": {
    "colab": {},
    "colab_type": "code",
    "id": "0uI_EKMVCOh1"
   },
   "outputs": [],
   "source": [
    "tv_dur_rat_top.runtimeMinutes = tv_dur_rat_top.runtimeMinutes.astype('int32') #converting runtimes to integer"
   ]
  },
  {
   "cell_type": "code",
   "execution_count": 17,
   "metadata": {
    "colab": {
     "base_uri": "https://localhost:8080/",
     "height": 34
    },
    "colab_type": "code",
    "executionInfo": {
     "elapsed": 2405,
     "status": "ok",
     "timestamp": 1589729151780,
     "user": {
      "displayName": "Devandra Jain",
      "photoUrl": "https://lh3.googleusercontent.com/a-/AOh14GgAA2c6pj0kUBNxAJWw9IN8lF1sO9V1fBpHXwr1dA=s64",
      "userId": "08887639184458324853"
     },
     "user_tz": -330
    },
    "id": "ooQ6yzilCTBe",
    "outputId": "a3f989f9-f0b1-4153-a65b-fd57d3c7aa35"
   },
   "outputs": [
    {
     "data": {
      "text/plain": [
       "43.024075598949146"
      ]
     },
     "execution_count": 17,
     "metadata": {
      "tags": []
     },
     "output_type": "execute_result"
    }
   ],
   "source": [
    "tv_dur_rat_top.runtimeMinutes.mean() # finally getting average"
   ]
  },
  {
   "cell_type": "code",
   "execution_count": 0,
   "metadata": {
    "colab": {},
    "colab_type": "code",
    "id": "3NNJBQUcDqvv"
   },
   "outputs": [],
   "source": []
  }
 ],
 "metadata": {
  "colab": {
   "authorship_tag": "ABX9TyNlcOnGsEH2IZ/cogNK196d",
   "name": "average_runtime_final.ipynb",
   "provenance": []
  },
  "kernelspec": {
   "display_name": "Python 3",
   "language": "python",
   "name": "python3"
  },
  "language_info": {
   "codemirror_mode": {
    "name": "ipython",
    "version": 3
   },
   "file_extension": ".py",
   "mimetype": "text/x-python",
   "name": "python",
   "nbconvert_exporter": "python",
   "pygments_lexer": "ipython3",
   "version": "3.7.3"
  }
 },
 "nbformat": 4,
 "nbformat_minor": 1
}
